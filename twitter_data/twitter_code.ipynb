{
 "cells": [
  {
   "cell_type": "code",
   "execution_count": null,
   "metadata": {},
   "outputs": [],
   "source": [
    "require(twitteR)\n",
    "require(RCurl)\n",
    "require(ggmap)\n",
    "Consumer_key<-\"eApCmbYKYV5tPDlgANXPGYvaF\"\n",
    "Consumer_secret<-\"Hb0JcZulZD2NtkzosB2fCxsj3UW8Ljb8ekXdn5tBKrkDZ87SFX\"\n",
    "Access_token<-\"1090445466293202945-rpXy2dXQiXIgSRQ2KZUy5mRLt3FHUu\"\n",
    "Access_secret<-\"idXFEKLMH69MUWJfdQf45XALKCZD47kxxiRUIuJcgsTdD\"\n",
    "\n",
    "setup_twitter_oauth(Consumer_key,Consumer_secret,Access_token,Access_secret)\n",
    "crypt_tweets <- searchTwitter('blockchain', n = 1000, lang = \"en\",since=\"2019-01-22\",until=\"2019-01-23\")\n",
    "text_data<-sapply(crypt_tweets, function(x) x$getText())\n",
    "#str(text_data)\n",
    "text_data7<-data.frame(text_data)\n",
    "write.table(text_data7, file =\"D:/project/text_data7.txt\")"
   ]
  }
 ],
 "metadata": {
  "kernelspec": {
   "display_name": "Python 3",
   "language": "python",
   "name": "python3"
  },
  "language_info": {
   "codemirror_mode": {
    "name": "ipython",
    "version": 3
   },
   "file_extension": ".py",
   "mimetype": "text/x-python",
   "name": "python",
   "nbconvert_exporter": "python",
   "pygments_lexer": "ipython3",
   "version": "3.5.6"
  }
 },
 "nbformat": 4,
 "nbformat_minor": 2
}
